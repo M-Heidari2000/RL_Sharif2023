{
 "cells": [
  {
   "cell_type": "markdown",
   "metadata": {
    "id": "1ekcge5vHPpR"
   },
   "source": [
    "# Installations and Imports"
   ]
  },
  {
   "cell_type": "code",
   "execution_count": null,
   "metadata": {
    "colab": {
     "base_uri": "https://localhost:8080/"
    },
    "id": "iJ6K6gUyFP8v",
    "outputId": "b524a6f1-dcce-4602-ca63-69fcbadec9b3"
   },
   "outputs": [],
   "source": [
    "!sudo apt-get update\n",
    "!pip install 'imageio==2.4.0'\n",
    "!sudo apt-get install -y xvfb ffmpeg\n",
    "!pip3 install gymnasium[classic_control]"
   ]
  },
  {
   "cell_type": "code",
   "execution_count": 1,
   "metadata": {
    "id": "lzUJnJrQEN1r"
   },
   "outputs": [],
   "source": [
    "import math\n",
    "import base64\n",
    "import random\n",
    "import imageio\n",
    "import IPython\n",
    "import matplotlib\n",
    "import gymnasium as gym\n",
    "from itertools import count\n",
    "import matplotlib.pyplot as plt\n",
    "from collections import namedtuple, deque\n",
    "from tqdm.notebook import tqdm\n",
    "\n",
    "import torch\n",
    "import torch.nn as nn\n",
    "import torch.optim as optim\n",
    "import torch.nn.functional as F\n",
    "\n",
    "DEVICE = torch.device(\"cuda\" if torch.cuda.is_available() else \"cpu\")"
   ]
  },
  {
   "cell_type": "markdown",
   "metadata": {
    "id": "csY30Op-HVgu"
   },
   "source": [
    "# Utility functions for rendering evironment"
   ]
  },
  {
   "cell_type": "code",
   "execution_count": 2,
   "metadata": {
    "id": "B_g_w4-VFqXz"
   },
   "outputs": [],
   "source": [
    "def embed_mp4(filename):\n",
    "  \n",
    "    video = open(filename,'rb').read()\n",
    "    b64 = base64.b64encode(video)\n",
    "    tag = '''\n",
    "    <video width=\"640\" height=\"480\" controls>\n",
    "    <source src=\"data:video/mp4;base64,{0}\" type=\"video/mp4\">\n",
    "    Your browser does not support the video tag.\n",
    "    </video>'''.format(b64.decode())\n",
    "    \n",
    "    return IPython.display.HTML(tag)"
   ]
  },
  {
   "cell_type": "code",
   "execution_count": 3,
   "metadata": {
    "id": "IH96rj7THfsS"
   },
   "outputs": [],
   "source": [
    "def create_policy_eval_video(env, policy, filename, num_episodes=1, fps=30):\n",
    "  \n",
    "    filename = filename + \".mp4\"\n",
    "    with imageio.get_writer(filename, fps=fps) as video:\n",
    "        for _ in range(num_episodes):\n",
    "            state, info = env.reset()\n",
    "            video.append_data(env.render())\n",
    "            while True:\n",
    "                state = torch.from_numpy(state).unsqueeze(0).to(DEVICE)\n",
    "                action = policy(state)\n",
    "                state, reward, terminated, truncated, _ = env.step(action.item())\n",
    "                video.append_data(env.render())\n",
    "                if terminated:\n",
    "                    break\n",
    "    return embed_mp4(filename)"
   ]
  },
  {
   "cell_type": "markdown",
   "metadata": {
    "id": "ozFEZ_bqH71W"
   },
   "source": [
    "# Replay Memory and Q-Network"
   ]
  },
  {
   "cell_type": "code",
   "execution_count": 4,
   "metadata": {
    "id": "84EJUO1JH7h4"
   },
   "outputs": [],
   "source": [
    "class ReplayMemory(object):\n",
    "\n",
    "    def __init__(self, capacity):\n",
    "        self.memory = deque([], maxlen=capacity)\n",
    "\n",
    "    def push(self, transition):\n",
    "        self.memory.append(transition)\n",
    "\n",
    "    def sample(self, batch_size):\n",
    "        return random.sample(self.memory, batch_size)\n",
    "\n",
    "    def __len__(self):\n",
    "        return len(self.memory)"
   ]
  },
  {
   "cell_type": "code",
   "execution_count": 5,
   "metadata": {
    "id": "WD_Av2C7IIZ4"
   },
   "outputs": [],
   "source": [
    "# Complete the Q-Network below. \n",
    "# The Q-Network takes a state as input and the output is a vector so that each element is the q-value for an action.\n",
    "\n",
    "class DQN(nn.Module):\n",
    "\n",
    "    def __init__(self, n_observations, n_actions):\n",
    "        super(DQN, self).__init__()\n",
    "        # ==================================== Your Code (Begin) ====================================\n",
    "        self.linear_relu_stack = nn.Sequential(\n",
    "            nn.Linear(n_observations, 4),\n",
    "            nn.ReLU(),\n",
    "            nn.Linear(4, 4),\n",
    "            nn.ReLU(),\n",
    "            nn.Linear(4, n_actions)\n",
    "        )\n",
    "        # ==================================== Your Code (End) ====================================\n",
    "\n",
    "    def forward(self, x):\n",
    "        # ==================================== Your Code (Begin) ====================================\n",
    "        x = self.linear_relu_stack(x)\n",
    "        return x\n",
    "        # ==================================== Your Code (End) ===================================="
   ]
  },
  {
   "cell_type": "markdown",
   "metadata": {
    "id": "f_ZW4F6SQeMZ"
   },
   "source": [
    "# Policies"
   ]
  },
  {
   "cell_type": "markdown",
   "metadata": {
    "id": "XJ6SfSblT_6f"
   },
   "source": [
    "Now we define 2 policies. We use greedy policy for evaluation and e-greedy during training."
   ]
  },
  {
   "cell_type": "code",
   "execution_count": 6,
   "metadata": {
    "id": "fokLsyg5Qc41"
   },
   "outputs": [],
   "source": [
    "# This function takes in a state and returns the best action according to your q-network.\n",
    "# Don't forget \"torch.no_grad()\". We don't want gradient flowing through our network. \n",
    "\n",
    "# state shape: (1, state_size) -> output shape: (1, 1)  \n",
    "def greedy_policy(qnet, state):\n",
    "    # ==================================== Your Code (Begin) ====================================\n",
    "    with torch.no_grad():\n",
    "        action_values = qnet(state).squeeze()\n",
    "        return action_values.argmax()\n",
    "    # ==================================== Your Code (End) ===================================="
   ]
  },
  {
   "cell_type": "code",
   "execution_count": 7,
   "metadata": {
    "id": "_iE-12xgRc2y"
   },
   "outputs": [],
   "source": [
    "# state shape: (1, state_size) -> output shape: (1, 1)\n",
    "# Don't forget \"torch.no_grad()\". We don't want gradient flowing through our network.\n",
    "\n",
    "def e_greedy_policy(qnet, state, current_timestep):\n",
    "    \n",
    "    eps_threshold = EPS_END + (EPS_START - EPS_END) * math.exp(-1. * current_timestep / EPS_DECAY)\n",
    "    # ==================================== Your Code (Begin) ====================================\n",
    "    # With probability \"eps_threshold\" choose a random action \n",
    "    # and with probability 1-\"eps_threshold\" choose the best action according to your Q-Network.\n",
    "    with torch.no_grad():\n",
    "        action_values = qnet(state).squeeze()\n",
    "        random_number = torch.rand(1).item()\n",
    "        if random_number <= eps_threshold:\n",
    "            return torch.randint(len(action_values), size=(1, ))\n",
    "        else:\n",
    "            return action_values.argmax()\n",
    "    # ==================================== Your Code (End) ===================================="
   ]
  },
  {
   "cell_type": "markdown",
   "metadata": {
    "id": "0PvG1MpOK9mX"
   },
   "source": [
    "# Initial setup"
   ]
  },
  {
   "cell_type": "code",
   "execution_count": 34,
   "metadata": {
    "colab": {
     "base_uri": "https://localhost:8080/",
     "height": 539
    },
    "id": "5Sc1a-6ZLAE1",
    "outputId": "023fab53-d9e4-45f4-8f04-e362b6b90ba9",
    "scrolled": false
   },
   "outputs": [
    {
     "name": "stderr",
     "output_type": "stream",
     "text": [
      "WARNING:root:IMAGEIO FFMPEG_WRITER WARNING: input image is not divisible by macro_block_size=16, resizing from (400, 600) to (400, 608) to ensure video compatibility with most codecs and players. To prevent resizing, make your input image divisible by the macro_block_size or set the macro_block_size to None (risking incompatibility). You may also see a FFMPEG warning concerning speedloss due to data not being aligned.\n",
      "[swscaler @ 0x55edcdea8280] Warning: data is not aligned! This can lead to a speed loss\n"
     ]
    },
    {
     "data": {
      "text/html": [
       "\n",
       "    <video width=\"640\" height=\"480\" controls>\n",
       "    <source src=\"data:video/mp4;base64,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\" type=\"video/mp4\">\n",
       "    Your browser does not support the video tag.\n",
       "    </video>"
      ],
      "text/plain": [
       "<IPython.core.display.HTML object>"
      ]
     },
     "execution_count": 34,
     "metadata": {},
     "output_type": "execute_result"
    }
   ],
   "source": [
    "BATCH_SIZE = 128\n",
    "GAMMA = 0.99\n",
    "EPS_START = 0.9\n",
    "EPS_END = 0.05\n",
    "EPS_DECAY = 75\n",
    "TAU = 0.005\n",
    "LR = 1e-3\n",
    "\n",
    "device = torch.device(\"cuda\" if torch.cuda.is_available() else \"cpu\")\n",
    "env = gym.make(\"CartPole-v1\", render_mode='rgb_array')\n",
    "n_actions = env.action_space.n\n",
    "state, info = env.reset()\n",
    "n_observations = len(state)\n",
    "q_network = DQN(n_observations, n_actions).to(device)\n",
    "target_network = DQN(n_observations, n_actions).to(device)\n",
    "target_network.load_state_dict(q_network.state_dict())\n",
    "optimizer = optim.Adam(q_network.parameters(), lr=LR)\n",
    "memory = ReplayMemory(10000)\n",
    "\n",
    "create_policy_eval_video(env, lambda s: greedy_policy(q_network, s), \"random_agent\")"
   ]
  },
  {
   "cell_type": "markdown",
   "metadata": {
    "id": "yWq08ZENXx6h"
   },
   "source": [
    "# Training"
   ]
  },
  {
   "cell_type": "code",
   "execution_count": 35,
   "metadata": {},
   "outputs": [],
   "source": [
    "Transition = namedtuple(\n",
    "    'Transition',\n",
    "    ('state', 'action', 'next_state', 'reward')\n",
    ")"
   ]
  },
  {
   "cell_type": "code",
   "execution_count": 36,
   "metadata": {
    "colab": {
     "base_uri": "https://localhost:8080/",
     "height": 1000
    },
    "id": "USGbCrKbFusn",
    "outputId": "637da598-4626-4f28-a0ee-0d165a3129fa",
    "scrolled": true
   },
   "outputs": [
    {
     "data": {
      "application/vnd.jupyter.widget-view+json": {
       "model_id": "630da2a5b02d4f25b197d65e063a2406",
       "version_major": 2,
       "version_minor": 0
      },
      "text/plain": [
       "  0%|          | 0/200 [00:00<?, ?it/s]"
      ]
     },
     "metadata": {},
     "output_type": "display_data"
    },
    {
     "name": "stdout",
     "output_type": "stream",
     "text": [
      "Episode: 0, duration: 20\n",
      "Episode: 1, duration: 29\n",
      "Episode: 2, duration: 37\n",
      "Episode: 3, duration: 24\n",
      "Episode: 4, duration: 26\n",
      "Episode: 5, duration: 30\n",
      "Episode: 6, duration: 26\n",
      "Episode: 7, duration: 37\n",
      "Episode: 8, duration: 20\n",
      "Episode: 9, duration: 13\n",
      "Episode: 10, duration: 18\n",
      "Episode: 11, duration: 15\n",
      "Episode: 12, duration: 21\n",
      "Episode: 13, duration: 28\n",
      "Episode: 14, duration: 24\n",
      "Episode: 15, duration: 12\n",
      "Episode: 16, duration: 13\n",
      "Episode: 17, duration: 27\n",
      "Episode: 18, duration: 10\n",
      "Episode: 19, duration: 16\n",
      "Episode: 20, duration: 25\n",
      "Episode: 21, duration: 37\n",
      "Episode: 22, duration: 13\n",
      "Episode: 23, duration: 19\n",
      "Episode: 24, duration: 16\n",
      "Episode: 25, duration: 17\n",
      "Episode: 26, duration: 10\n",
      "Episode: 27, duration: 14\n",
      "Episode: 28, duration: 11\n",
      "Episode: 29, duration: 14\n",
      "Episode: 30, duration: 11\n",
      "Episode: 31, duration: 34\n",
      "Episode: 32, duration: 10\n",
      "Episode: 33, duration: 12\n",
      "Episode: 34, duration: 11\n",
      "Episode: 35, duration: 13\n",
      "Episode: 36, duration: 14\n",
      "Episode: 37, duration: 21\n",
      "Episode: 38, duration: 12\n",
      "Episode: 39, duration: 10\n",
      "Episode: 40, duration: 9\n",
      "Episode: 41, duration: 15\n",
      "Episode: 42, duration: 9\n",
      "Episode: 43, duration: 13\n",
      "Episode: 44, duration: 19\n",
      "Episode: 45, duration: 11\n",
      "Episode: 46, duration: 12\n",
      "Episode: 47, duration: 12\n",
      "Episode: 48, duration: 17\n",
      "Episode: 49, duration: 9\n",
      "Episode: 50, duration: 11\n",
      "Episode: 51, duration: 10\n",
      "Episode: 52, duration: 11\n",
      "Episode: 53, duration: 16\n",
      "Episode: 54, duration: 9\n",
      "Episode: 55, duration: 13\n",
      "Episode: 56, duration: 9\n",
      "Episode: 57, duration: 13\n",
      "Episode: 58, duration: 9\n",
      "Episode: 59, duration: 10\n",
      "Episode: 60, duration: 9\n",
      "Episode: 61, duration: 8\n",
      "Episode: 62, duration: 12\n",
      "Episode: 63, duration: 12\n",
      "Episode: 64, duration: 13\n",
      "Episode: 65, duration: 13\n",
      "Episode: 66, duration: 15\n",
      "Episode: 67, duration: 10\n",
      "Episode: 68, duration: 9\n",
      "Episode: 69, duration: 19\n",
      "Episode: 70, duration: 10\n",
      "Episode: 71, duration: 11\n",
      "Episode: 72, duration: 13\n",
      "Episode: 73, duration: 17\n",
      "Episode: 74, duration: 14\n",
      "Episode: 75, duration: 12\n",
      "Episode: 76, duration: 9\n",
      "Episode: 77, duration: 15\n",
      "Episode: 78, duration: 8\n",
      "Episode: 79, duration: 10\n",
      "Episode: 80, duration: 15\n",
      "Episode: 81, duration: 15\n",
      "Episode: 82, duration: 10\n",
      "Episode: 83, duration: 10\n",
      "Episode: 84, duration: 11\n",
      "Episode: 85, duration: 17\n",
      "Episode: 86, duration: 8\n",
      "Episode: 87, duration: 15\n",
      "Episode: 88, duration: 14\n",
      "Episode: 89, duration: 15\n",
      "Episode: 90, duration: 12\n",
      "Episode: 91, duration: 12\n",
      "Episode: 92, duration: 15\n",
      "Episode: 93, duration: 17\n",
      "Episode: 94, duration: 18\n",
      "Episode: 95, duration: 22\n",
      "Episode: 96, duration: 21\n",
      "Episode: 97, duration: 15\n",
      "Episode: 98, duration: 19\n",
      "Episode: 99, duration: 17\n",
      "Episode: 100, duration: 11\n",
      "Episode: 101, duration: 19\n",
      "Episode: 102, duration: 18\n",
      "Episode: 103, duration: 24\n",
      "Episode: 104, duration: 35\n",
      "Episode: 105, duration: 23\n",
      "Episode: 106, duration: 17\n",
      "Episode: 107, duration: 37\n",
      "Episode: 108, duration: 29\n",
      "Episode: 109, duration: 24\n",
      "Episode: 110, duration: 28\n",
      "Episode: 111, duration: 28\n",
      "Episode: 112, duration: 28\n",
      "Episode: 113, duration: 31\n",
      "Episode: 114, duration: 53\n",
      "Episode: 115, duration: 69\n",
      "Episode: 116, duration: 30\n",
      "Episode: 117, duration: 41\n",
      "Episode: 118, duration: 25\n",
      "Episode: 119, duration: 60\n",
      "Episode: 120, duration: 54\n",
      "Episode: 121, duration: 38\n",
      "Episode: 122, duration: 43\n",
      "Episode: 123, duration: 55\n",
      "Episode: 124, duration: 52\n",
      "Episode: 125, duration: 76\n",
      "Episode: 126, duration: 56\n",
      "Episode: 127, duration: 55\n",
      "Episode: 128, duration: 58\n",
      "Episode: 129, duration: 76\n",
      "Episode: 130, duration: 84\n",
      "Episode: 131, duration: 76\n",
      "Episode: 132, duration: 57\n",
      "Episode: 133, duration: 78\n",
      "Episode: 134, duration: 84\n",
      "Episode: 135, duration: 74\n",
      "Episode: 136, duration: 93\n",
      "Episode: 137, duration: 95\n",
      "Episode: 138, duration: 91\n",
      "Episode: 139, duration: 96\n",
      "Episode: 140, duration: 90\n",
      "Episode: 141, duration: 83\n",
      "Episode: 142, duration: 92\n",
      "Episode: 143, duration: 108\n",
      "Episode: 144, duration: 90\n",
      "Episode: 145, duration: 106\n",
      "Episode: 146, duration: 117\n",
      "Episode: 147, duration: 116\n",
      "Episode: 148, duration: 120\n",
      "Episode: 149, duration: 127\n",
      "Episode: 150, duration: 127\n",
      "Episode: 151, duration: 116\n",
      "Episode: 152, duration: 126\n",
      "Episode: 153, duration: 118\n",
      "Episode: 154, duration: 130\n",
      "Episode: 155, duration: 123\n",
      "Episode: 156, duration: 136\n",
      "Episode: 157, duration: 141\n",
      "Episode: 158, duration: 112\n",
      "Episode: 159, duration: 132\n",
      "Episode: 160, duration: 124\n",
      "Episode: 161, duration: 120\n",
      "Episode: 162, duration: 138\n",
      "Episode: 163, duration: 139\n",
      "Episode: 164, duration: 131\n",
      "Episode: 165, duration: 128\n",
      "Episode: 166, duration: 122\n",
      "Episode: 167, duration: 127\n",
      "Episode: 168, duration: 129\n",
      "Episode: 169, duration: 131\n",
      "Episode: 170, duration: 145\n",
      "Episode: 171, duration: 129\n",
      "Episode: 172, duration: 137\n",
      "Episode: 173, duration: 146\n",
      "Episode: 174, duration: 130\n",
      "Episode: 175, duration: 144\n",
      "Episode: 176, duration: 138\n",
      "Episode: 177, duration: 162\n",
      "Episode: 178, duration: 156\n",
      "Episode: 179, duration: 133\n",
      "Episode: 180, duration: 124\n",
      "Episode: 181, duration: 143\n",
      "Episode: 182, duration: 123\n",
      "Episode: 183, duration: 132\n",
      "Episode: 184, duration: 133\n",
      "Episode: 185, duration: 134\n",
      "Episode: 186, duration: 157\n",
      "Episode: 187, duration: 155\n",
      "Episode: 188, duration: 137\n",
      "Episode: 189, duration: 138\n",
      "Episode: 190, duration: 140\n",
      "Episode: 191, duration: 143\n",
      "Episode: 192, duration: 148\n",
      "Episode: 193, duration: 153\n",
      "Episode: 194, duration: 180\n",
      "Episode: 195, duration: 180\n",
      "Episode: 196, duration: 173\n",
      "Episode: 197, duration: 156\n",
      "Episode: 198, duration: 150\n",
      "Episode: 199, duration: 229\n",
      "Complete\n"
     ]
    }
   ],
   "source": [
    "num_episodes = 200\n",
    "loss_fn = torch.nn.MSELoss()\n",
    "episode_returns = []\n",
    "episode_durations = []\n",
    "\n",
    "for i_episode in tqdm(range(num_episodes)):\n",
    "\n",
    "    # ==================================== Your Code (Begin) ====================================\n",
    "    \n",
    "    # 1. Start a new episode\n",
    "    t = 0\n",
    "    G = 0\n",
    "    done = False\n",
    "    state, info = env.reset()\n",
    "    state = torch.tensor(state).to(device)\n",
    "    while not done:\n",
    "        \n",
    "        # 2. Run the environment for 1 step using e-greedy policy\n",
    "        action = e_greedy_policy(qnet=q_network, state=state, current_timestep=i_episode)\n",
    "        next_state, reward, done, _, _ = env.step(action.item())\n",
    "        \n",
    "        # Add reward to the return\n",
    "        G += reward * GAMMA ** t\n",
    "        t += 1\n",
    "        \n",
    "        if done:\n",
    "            next_state = None\n",
    "        else:\n",
    "            next_state = torch.tensor(next_state).to(device)\n",
    "        \n",
    "        # 3. Add the (state, action, next_state, reward) to replay memory\n",
    "        transition = Transition(\n",
    "            state=state,\n",
    "            action=action,\n",
    "            next_state=next_state,\n",
    "            reward=reward\n",
    "        )\n",
    "        memory.push(transition)\n",
    "        \n",
    "        state = next_state\n",
    "        \n",
    "        if len(memory) < 2*BATCH_SIZE:\n",
    "            continue\n",
    "        \n",
    "        # 4. Optimize your q_network for 1 iteration\n",
    "        \n",
    "        # 4.1 Sample one batch from replay memory\n",
    "        mini_batch = memory.sample(BATCH_SIZE)\n",
    "        \n",
    "        # 4.2 Compute predicted state-action values using q_network\n",
    "        q_values = [\n",
    "            q_network(x.state)[x.action] for x in mini_batch\n",
    "        ]\n",
    "        \n",
    "        # 4.3 Compute expected state-action values using target_network (Don't forget \"no_grad\" because we don't want gradient through target_network)\n",
    "        with torch.no_grad():\n",
    "            targets = [\n",
    "                x.reward if x.next_state is None else\n",
    "                x.reward  + GAMMA * target_network(x.next_state).max()\n",
    "                for x in mini_batch\n",
    "            ]\n",
    "            \n",
    "        # 4.4 Compute loss function and optimize q_network for 1 step\n",
    "        loss = sum((target - q)**2 for target, q in zip(targets, q_values)) / len(q_values)\n",
    "            \n",
    "        optimizer.zero_grad()\n",
    "        loss.backward()\n",
    "        # In plac gradient clipping to avoid gradient exploding\n",
    "        torch.nn.utils.clip_grad_value_(q_network.parameters(), 100)\n",
    "        optimizer.step()\n",
    "        \n",
    "        # 5. Soft update the weights of target_network\n",
    "        # θ′ ← τ θ + (1 −τ )θ′\n",
    "        # θ   is q_network weights\n",
    "        # θ′  is target_network weights\n",
    "        target_net_state_dict = target_network.state_dict()\n",
    "        q_net_state_dict = q_network.state_dict()\n",
    "        for key in q_net_state_dict:\n",
    "            target_net_state_dict[key] = TAU * q_net_state_dict[key] + (1-TAU) * target_net_state_dict[key]\n",
    "        target_network.load_state_dict(target_net_state_dict)\n",
    "        \n",
    "    # 6. Keep track of the total reward for each episode to plot later\n",
    "    episode_durations.append(t)\n",
    "    episode_returns.append(G)\n",
    "    print(f'Episode: {i_episode}, duration: {t}')\n",
    "    \n",
    "    # ==================================== Your Code (End) ====================================  \n",
    "    \n",
    "print('Complete')"
   ]
  },
  {
   "cell_type": "code",
   "execution_count": 37,
   "metadata": {
    "scrolled": false
   },
   "outputs": [
    {
     "data": {
      "text/plain": [
       "Text(0, 0.5, 'Return')"
      ]
     },
     "execution_count": 37,
     "metadata": {},
     "output_type": "execute_result"
    },
    {
     "data": {
      "image/png": "[encoded data removed]",
      "text/plain": [
       "<Figure size 640x480 with 1 Axes>"
      ]
     },
     "metadata": {},
     "output_type": "display_data"
    },
    {
     "data": {
      "image/png": "[encoded data removed]",
      "text/plain": [
       "<Figure size 640x480 with 1 Axes>"
      ]
     },
     "metadata": {},
     "output_type": "display_data"
    }
   ],
   "source": [
    "# Visualize the model's performance over time\n",
    "\n",
    "fig1, ax1 = plt.subplots()\n",
    "ax1.plot(range(1, num_episodes+1), episode_durations)\n",
    "ax1.set_xlabel('Episode number')\n",
    "ax1.set_ylabel('Episode duration')\n",
    "\n",
    "fig2, ax2 = plt.subplots()\n",
    "ax2.plot(episode_returns, color='red')\n",
    "ax2.set_xlabel('Episode number')\n",
    "ax2.set_ylabel('Return')"
   ]
  },
  {
   "cell_type": "code",
   "execution_count": 38,
   "metadata": {
    "colab": {
     "base_uri": "https://localhost:8080/",
     "height": 539
    },
    "id": "1s50clnmF_az",
    "outputId": "9ba83866-f303-4b75-bbfb-88fdb2a0e934"
   },
   "outputs": [
    {
     "name": "stderr",
     "output_type": "stream",
     "text": [
      "WARNING:root:IMAGEIO FFMPEG_WRITER WARNING: input image is not divisible by macro_block_size=16, resizing from (400, 600) to (400, 608) to ensure video compatibility with most codecs and players. To prevent resizing, make your input image divisible by the macro_block_size or set the macro_block_size to None (risking incompatibility). You may also see a FFMPEG warning concerning speedloss due to data not being aligned.\n",
      "[swscaler @ 0x55691f324280] Warning: data is not aligned! This can lead to a speed loss\n"
     ]
    },
    {
     "data": {
      "text/html": [
       "\n",
       "    <video width=\"640\" height=\"480\" controls>\n",
       "    <source src=\"data:video/mp4;base64,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\" type=\"video/mp4\">\n",
       "    Your browser does not support the video tag.\n",
       "    </video>"
      ],
      "text/plain": [
       "<IPython.core.display.HTML object>"
      ]
     },
     "execution_count": 38,
     "metadata": {},
     "output_type": "execute_result"
    }
   ],
   "source": [
    "# Render trained model\n",
    "\n",
    "create_policy_eval_video(env, lambda s: greedy_policy(q_network, s), \"trained_agent\")"
   ]
  }
 ],
 "metadata": {
  "colab": {
   "provenance": []
  },
  "gpuClass": "standard",
  "kernelspec": {
   "display_name": "Python 3 (ipykernel)",
   "language": "python",
   "name": "python3"
  },
  "language_info": {
   "codemirror_mode": {
    "name": "ipython",
    "version": 3
   },
   "file_extension": ".py",
   "mimetype": "text/x-python",
   "name": "python",
   "nbconvert_exporter": "python",
   "pygments_lexer": "ipython3",
   "version": "3.10.6"
  }
 },
 "nbformat": 4,
 "nbformat_minor": 1
}
