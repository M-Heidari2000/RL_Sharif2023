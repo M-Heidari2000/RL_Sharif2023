{
 "cells": [
  {
   "cell_type": "markdown",
   "id": "915bbc2e",
   "metadata": {},
   "source": [
    "### P1-C"
   ]
  },
  {
   "cell_type": "code",
   "execution_count": 1,
   "id": "dd1da2d3",
   "metadata": {},
   "outputs": [],
   "source": [
    "import numpy as np"
   ]
  },
  {
   "cell_type": "code",
   "execution_count": 2,
   "id": "0b97224a",
   "metadata": {},
   "outputs": [],
   "source": [
    "def f1(x):\n",
    "    return 1 + (x/2)**2\n",
    "\n",
    "def f2(x):\n",
    "    return (x/4) ** 10"
   ]
  },
  {
   "cell_type": "code",
   "execution_count": 3,
   "id": "70f11bbe",
   "metadata": {},
   "outputs": [],
   "source": [
    "def monte_carlo(func, num_samples=100):\n",
    "    samples = np.random.rand(num_samples) * 4\n",
    "    return np.mean(func(samples))"
   ]
  },
  {
   "cell_type": "code",
   "execution_count": 4,
   "id": "13c226ab",
   "metadata": {},
   "outputs": [],
   "source": [
    "# Repeat the expriment for 1000 times to get the bias and variance\n",
    "f1_estimators = [monte_carlo(f1) for _ in range(1000)]\n",
    "f2_estimators = [monte_carlo(f2) for _ in range(1000)]"
   ]
  },
  {
   "cell_type": "code",
   "execution_count": 5,
   "id": "2759e61d",
   "metadata": {},
   "outputs": [
    {
     "name": "stdout",
     "output_type": "stream",
     "text": [
      "bias of f1 estimator: 0.00042\n",
      "variance of f1 estimator: 0.01428\n"
     ]
    }
   ],
   "source": [
    "# bias and variance of f1 estimator\n",
    "f1_bias = np.mean(f1_estimators) - 7/3\n",
    "f1_var = np.var(f1_estimators)\n",
    "\n",
    "print(f'bias of f1 estimator: {np.round(f1_bias, 5)}')\n",
    "print(f'variance of f1 estimator: {np.round(f1_var, 5)}')"
   ]
  },
  {
   "cell_type": "code",
   "execution_count": 6,
   "id": "630283a9",
   "metadata": {},
   "outputs": [
    {
     "name": "stdout",
     "output_type": "stream",
     "text": [
      "bias of f2 estimator: 7e-05\n",
      "variance of f2 estimator: 0.0004\n"
     ]
    }
   ],
   "source": [
    "# bias and variance of f2 estimator\n",
    "f2_bias = np.mean(f2_estimators) - 1/11\n",
    "f2_var = np.var(f2_estimators)\n",
    "\n",
    "print(f'bias of f2 estimator: {np.round(f2_bias, 5)}')\n",
    "print(f'variance of f2 estimator: {np.round(f2_var, 5)}')"
   ]
  }
 ],
 "metadata": {
  "kernelspec": {
   "display_name": "RL_env",
   "language": "python",
   "name": "rl_env"
  },
  "language_info": {
   "codemirror_mode": {
    "name": "ipython",
    "version": 3
   },
   "file_extension": ".py",
   "mimetype": "text/x-python",
   "name": "python",
   "nbconvert_exporter": "python",
   "pygments_lexer": "ipython3",
   "version": "3.10.6"
  }
 },
 "nbformat": 4,
 "nbformat_minor": 5
}
