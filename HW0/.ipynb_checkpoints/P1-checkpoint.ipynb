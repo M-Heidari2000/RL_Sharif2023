{
 "cells": [
  {
   "cell_type": "markdown",
   "id": "a47aa038",
   "metadata": {},
   "source": [
    "### P1-C"
   ]
  },
  {
   "cell_type": "code",
   "execution_count": null,
   "id": "592a358b",
   "metadata": {},
   "outputs": [],
   "source": [
    "def monte_carlo(func, num_samples=100):\n",
    "    samples = n"
   ]
  }
 ],
 "metadata": {
  "kernelspec": {
   "display_name": "RL_env",
   "language": "python",
   "name": "rl_env"
  },
  "language_info": {
   "codemirror_mode": {
    "name": "ipython",
    "version": 3
   },
   "file_extension": ".py",
   "mimetype": "text/x-python",
   "name": "python",
   "nbconvert_exporter": "python",
   "pygments_lexer": "ipython3",
   "version": "3.10.6"
  }
 },
 "nbformat": 4,
 "nbformat_minor": 5
}
